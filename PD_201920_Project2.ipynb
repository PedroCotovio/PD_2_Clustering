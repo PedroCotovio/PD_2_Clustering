{
 "cells": [
  {
   "cell_type": "markdown",
   "metadata": {},
   "source": [
    "# Data Mining / Prospecção de Dados\n",
    "\n",
    "## Sara C. Madeira and André Falcão, 2019/20\n",
    "\n",
    "# Project 2 - Clustering"
   ]
  },
  {
   "cell_type": "markdown",
   "metadata": {},
   "source": [
    "## Dataset and Tools\n",
    "\n",
    "The dataset to be analysed is **`AML_ALL_PATIENTS_GENES_EXTENDED.csv`**. This is an extended version of the widely studied **Leukemia dataset**, originally published by Golub et al. (1999) [\"Molecular Classification of Cancer: Class Discovery and Class Prediction by Gene\n",
    "Expression Monitoring\"](http://archive.broadinstitute.org/mpr/publications/projects/Leukemia/Golub_et_al_1999.pdf.) \n",
    "\n",
    "**This dataset studies patients with leukaemia. At disease onset clinicials diagnosed them in two different types of leukaemia: acute myeloid leukemia (AML) and acute lymphoblastic leukemia (ALL).** Some of these diagnoses were later confirmed, other revealed to be wrong. The data analyzed here contains the expression levels of 5147 Human genes (features/columns) analyzed in 110 patients (rows): 70 ALL and 40 AML.\n",
    "Each row identifies a patient: The first column, `ID`, contains the patients' IDs , the second column, `DIAGNOSIS`, contains the initial diagnosis as performed by clinicians (ground truth), and the remaining 5147 columns contain the expression levels of the 5147 genes analysed.\n",
    "\n",
    "**The goal is to cluster patients and (ideally) find AML groups and ALL groups.**\n",
    "\n",
    "\n",
    "<img src=\"AML_ALL_PATIENTS_GENES_EXTENDED.jpg\" alt=\"AML_ALL_PATIENTS_GENES_EXTENDED.csv\" style=\"width: 1000px;\"/>"
   ]
  },
  {
   "cell_type": "markdown",
   "metadata": {},
   "source": [
    "## 1. Load and Preprocess Dataset"
   ]
  },
  {
   "cell_type": "markdown",
   "metadata": {},
   "source": [
    "At the end of this step you should have:\n",
    "* a 110 rows × 5147 columns matrix, **X**, containing the values of the 5147 features for each of the 110 patients.\n",
    "* a vector, **y**, with the 110 diagnosis, which you can use later to evaluate clustering quality."
   ]
  },
  {
   "cell_type": "code",
   "execution_count": 35,
   "metadata": {},
   "outputs": [
    {
     "name": "stdout",
     "output_type": "stream",
     "text": [
      "The autoreload extension is already loaded. To reload it, use:\n",
      "  %reload_ext autoreload\n",
      "Path to Data: C:\\Users\\peped\\Documents\\Repo\\PD_2_Clustering\\dataset\n"
     ]
    }
   ],
   "source": [
    "# Imports libraries\n",
    "import pandas as pd\n",
    "import os\n",
    "from matplotlib import pyplot as plt\n",
    "import numpy as np\n",
    "from imblearn.combine import SMOTETomek\n",
    "\n",
    "# Import local modules\n",
    "\n",
    "from functions import *\n",
    "\n",
    "#IPython Configs\n",
    "\n",
    "%matplotlib inline\n",
    "%load_ext autoreload\n",
    "%autoreload 2\n",
    "\n",
    "# Get data_path\n",
    "path = get_path()"
   ]
  },
  {
   "cell_type": "code",
   "execution_count": 2,
   "metadata": {},
   "outputs": [
    {
     "data": {
      "text/html": [
       "<div>\n",
       "<style scoped>\n",
       "    .dataframe tbody tr th:only-of-type {\n",
       "        vertical-align: middle;\n",
       "    }\n",
       "\n",
       "    .dataframe tbody tr th {\n",
       "        vertical-align: top;\n",
       "    }\n",
       "\n",
       "    .dataframe thead th {\n",
       "        text-align: right;\n",
       "    }\n",
       "</style>\n",
       "<table border=\"1\" class=\"dataframe\">\n",
       "  <thead>\n",
       "    <tr style=\"text-align: right;\">\n",
       "      <th></th>\n",
       "      <th>ID</th>\n",
       "      <th>DIAGNOSIS</th>\n",
       "      <th>AFFX-BioC-5_at</th>\n",
       "      <th>hum_alu_at</th>\n",
       "      <th>AFFX-DapX-M_at</th>\n",
       "      <th>AFFX-LysX-5_at</th>\n",
       "      <th>AFFX-HUMISGF3A/M97935_MA_at</th>\n",
       "      <th>AFFX-HUMISGF3A/M97935_MB_at</th>\n",
       "      <th>AFFX-HUMISGF3A/M97935_3_at</th>\n",
       "      <th>AFFX-HUMRGE/M10098_5_at</th>\n",
       "      <th>...</th>\n",
       "      <th>M93143_at</th>\n",
       "      <th>U29175_at</th>\n",
       "      <th>U48730_at</th>\n",
       "      <th>U58516_at</th>\n",
       "      <th>X06956_at</th>\n",
       "      <th>X83863_at</th>\n",
       "      <th>Z17240_at</th>\n",
       "      <th>L49218_f_at</th>\n",
       "      <th>M71243_f_at</th>\n",
       "      <th>Z78285_f_at</th>\n",
       "    </tr>\n",
       "  </thead>\n",
       "  <tbody>\n",
       "    <tr>\n",
       "      <th>0</th>\n",
       "      <td>1</td>\n",
       "      <td>ALL</td>\n",
       "      <td>-0.912181</td>\n",
       "      <td>-0.936280</td>\n",
       "      <td>1.330679</td>\n",
       "      <td>0.045416</td>\n",
       "      <td>0.236442</td>\n",
       "      <td>0.196788</td>\n",
       "      <td>0.244435</td>\n",
       "      <td>2.561725</td>\n",
       "      <td>...</td>\n",
       "      <td>0.428940</td>\n",
       "      <td>1.018678</td>\n",
       "      <td>0.103263</td>\n",
       "      <td>-0.518375</td>\n",
       "      <td>0.019140</td>\n",
       "      <td>0.027771</td>\n",
       "      <td>0.122186</td>\n",
       "      <td>0.593119</td>\n",
       "      <td>-0.391378</td>\n",
       "      <td>-0.161117</td>\n",
       "    </tr>\n",
       "    <tr>\n",
       "      <th>1</th>\n",
       "      <td>2</td>\n",
       "      <td>ALL</td>\n",
       "      <td>0.842926</td>\n",
       "      <td>-1.311323</td>\n",
       "      <td>-0.067011</td>\n",
       "      <td>-0.964423</td>\n",
       "      <td>-0.224387</td>\n",
       "      <td>-0.200579</td>\n",
       "      <td>-0.371600</td>\n",
       "      <td>-0.417306</td>\n",
       "      <td>...</td>\n",
       "      <td>-0.425219</td>\n",
       "      <td>-0.474402</td>\n",
       "      <td>-0.067901</td>\n",
       "      <td>0.555431</td>\n",
       "      <td>0.160143</td>\n",
       "      <td>0.003223</td>\n",
       "      <td>-0.043618</td>\n",
       "      <td>0.032103</td>\n",
       "      <td>-0.576990</td>\n",
       "      <td>0.415146</td>\n",
       "    </tr>\n",
       "    <tr>\n",
       "      <th>2</th>\n",
       "      <td>3</td>\n",
       "      <td>ALL</td>\n",
       "      <td>1.076941</td>\n",
       "      <td>-0.788133</td>\n",
       "      <td>1.859748</td>\n",
       "      <td>1.151430</td>\n",
       "      <td>0.498175</td>\n",
       "      <td>1.244393</td>\n",
       "      <td>1.390191</td>\n",
       "      <td>0.664072</td>\n",
       "      <td>...</td>\n",
       "      <td>2.304741</td>\n",
       "      <td>-0.273350</td>\n",
       "      <td>1.493964</td>\n",
       "      <td>1.747818</td>\n",
       "      <td>-0.568816</td>\n",
       "      <td>0.797680</td>\n",
       "      <td>2.306901</td>\n",
       "      <td>0.705322</td>\n",
       "      <td>-0.331659</td>\n",
       "      <td>-0.261337</td>\n",
       "    </tr>\n",
       "    <tr>\n",
       "      <th>3</th>\n",
       "      <td>4</td>\n",
       "      <td>ALL</td>\n",
       "      <td>-1.596222</td>\n",
       "      <td>-0.874097</td>\n",
       "      <td>0.991127</td>\n",
       "      <td>0.574379</td>\n",
       "      <td>-0.065558</td>\n",
       "      <td>-0.044040</td>\n",
       "      <td>-0.402063</td>\n",
       "      <td>0.488835</td>\n",
       "      <td>...</td>\n",
       "      <td>-0.000930</td>\n",
       "      <td>-0.288936</td>\n",
       "      <td>0.691636</td>\n",
       "      <td>0.548844</td>\n",
       "      <td>-0.552853</td>\n",
       "      <td>-0.342677</td>\n",
       "      <td>-0.653193</td>\n",
       "      <td>-1.336776</td>\n",
       "      <td>-0.496289</td>\n",
       "      <td>-1.514082</td>\n",
       "    </tr>\n",
       "    <tr>\n",
       "      <th>4</th>\n",
       "      <td>5</td>\n",
       "      <td>ALL</td>\n",
       "      <td>-0.192137</td>\n",
       "      <td>-0.655253</td>\n",
       "      <td>-0.193356</td>\n",
       "      <td>-0.651854</td>\n",
       "      <td>0.142487</td>\n",
       "      <td>-0.176496</td>\n",
       "      <td>-0.286980</td>\n",
       "      <td>-0.274163</td>\n",
       "      <td>...</td>\n",
       "      <td>-0.721104</td>\n",
       "      <td>-0.471285</td>\n",
       "      <td>-0.206971</td>\n",
       "      <td>-0.063819</td>\n",
       "      <td>0.325090</td>\n",
       "      <td>-1.183998</td>\n",
       "      <td>0.049037</td>\n",
       "      <td>0.099424</td>\n",
       "      <td>-0.609271</td>\n",
       "      <td>0.139542</td>\n",
       "    </tr>\n",
       "  </tbody>\n",
       "</table>\n",
       "<p>5 rows × 5149 columns</p>\n",
       "</div>"
      ],
      "text/plain": [
       "   ID DIAGNOSIS  AFFX-BioC-5_at  hum_alu_at  AFFX-DapX-M_at  AFFX-LysX-5_at  \\\n",
       "0   1       ALL       -0.912181   -0.936280        1.330679        0.045416   \n",
       "1   2       ALL        0.842926   -1.311323       -0.067011       -0.964423   \n",
       "2   3       ALL        1.076941   -0.788133        1.859748        1.151430   \n",
       "3   4       ALL       -1.596222   -0.874097        0.991127        0.574379   \n",
       "4   5       ALL       -0.192137   -0.655253       -0.193356       -0.651854   \n",
       "\n",
       "   AFFX-HUMISGF3A/M97935_MA_at  AFFX-HUMISGF3A/M97935_MB_at  \\\n",
       "0                     0.236442                     0.196788   \n",
       "1                    -0.224387                    -0.200579   \n",
       "2                     0.498175                     1.244393   \n",
       "3                    -0.065558                    -0.044040   \n",
       "4                     0.142487                    -0.176496   \n",
       "\n",
       "   AFFX-HUMISGF3A/M97935_3_at  AFFX-HUMRGE/M10098_5_at  ...  M93143_at  \\\n",
       "0                    0.244435                 2.561725  ...   0.428940   \n",
       "1                   -0.371600                -0.417306  ...  -0.425219   \n",
       "2                    1.390191                 0.664072  ...   2.304741   \n",
       "3                   -0.402063                 0.488835  ...  -0.000930   \n",
       "4                   -0.286980                -0.274163  ...  -0.721104   \n",
       "\n",
       "   U29175_at  U48730_at  U58516_at  X06956_at  X83863_at  Z17240_at  \\\n",
       "0   1.018678   0.103263  -0.518375   0.019140   0.027771   0.122186   \n",
       "1  -0.474402  -0.067901   0.555431   0.160143   0.003223  -0.043618   \n",
       "2  -0.273350   1.493964   1.747818  -0.568816   0.797680   2.306901   \n",
       "3  -0.288936   0.691636   0.548844  -0.552853  -0.342677  -0.653193   \n",
       "4  -0.471285  -0.206971  -0.063819   0.325090  -1.183998   0.049037   \n",
       "\n",
       "   L49218_f_at  M71243_f_at  Z78285_f_at  \n",
       "0     0.593119    -0.391378    -0.161117  \n",
       "1     0.032103    -0.576990     0.415146  \n",
       "2     0.705322    -0.331659    -0.261337  \n",
       "3    -1.336776    -0.496289    -1.514082  \n",
       "4     0.099424    -0.609271     0.139542  \n",
       "\n",
       "[5 rows x 5149 columns]"
      ]
     },
     "execution_count": 2,
     "metadata": {},
     "output_type": "execute_result"
    }
   ],
   "source": [
    "# Load Data\n",
    "df = pd.read_csv(os.path.join(path,\"AML_ALL_PATIENTS_GENES_EXTENDED.csv\"))\n",
    "df.head()"
   ]
  },
  {
   "cell_type": "code",
   "execution_count": 3,
   "metadata": {},
   "outputs": [
    {
     "name": "stdout",
     "output_type": "stream",
     "text": [
      "Valid Format\n",
      "\n",
      "First 5 Columns: ['AFFX-BioC-5_at', 'hum_alu_at', 'AFFX-DapX-M_at', 'AFFX-LysX-5_at', 'AFFX-HUMISGF3A/M97935_MA_at']\n",
      "\n",
      "Targets: {'ALL', 'AML'}\n"
     ]
    },
    {
     "data": {
      "text/html": [
       "<div>\n",
       "<style scoped>\n",
       "    .dataframe tbody tr th:only-of-type {\n",
       "        vertical-align: middle;\n",
       "    }\n",
       "\n",
       "    .dataframe tbody tr th {\n",
       "        vertical-align: top;\n",
       "    }\n",
       "\n",
       "    .dataframe thead th {\n",
       "        text-align: right;\n",
       "    }\n",
       "</style>\n",
       "<table border=\"1\" class=\"dataframe\">\n",
       "  <thead>\n",
       "    <tr style=\"text-align: right;\">\n",
       "      <th></th>\n",
       "      <th>AFFX-BioC-5_at</th>\n",
       "      <th>hum_alu_at</th>\n",
       "      <th>AFFX-DapX-M_at</th>\n",
       "      <th>AFFX-LysX-5_at</th>\n",
       "      <th>AFFX-HUMISGF3A/M97935_MA_at</th>\n",
       "      <th>AFFX-HUMISGF3A/M97935_MB_at</th>\n",
       "      <th>AFFX-HUMISGF3A/M97935_3_at</th>\n",
       "      <th>AFFX-HUMRGE/M10098_5_at</th>\n",
       "      <th>AFFX-HUMRGE/M10098_M_at</th>\n",
       "      <th>AFFX-HUMRGE/M10098_3_at</th>\n",
       "      <th>...</th>\n",
       "      <th>U29175_at</th>\n",
       "      <th>U48730_at</th>\n",
       "      <th>U58516_at</th>\n",
       "      <th>X06956_at</th>\n",
       "      <th>X83863_at</th>\n",
       "      <th>Z17240_at</th>\n",
       "      <th>L49218_f_at</th>\n",
       "      <th>M71243_f_at</th>\n",
       "      <th>Z78285_f_at</th>\n",
       "      <th>target</th>\n",
       "    </tr>\n",
       "  </thead>\n",
       "  <tbody>\n",
       "    <tr>\n",
       "      <th>0</th>\n",
       "      <td>-0.912181</td>\n",
       "      <td>-0.936280</td>\n",
       "      <td>1.330679</td>\n",
       "      <td>0.045416</td>\n",
       "      <td>0.236442</td>\n",
       "      <td>0.196788</td>\n",
       "      <td>0.244435</td>\n",
       "      <td>2.561725</td>\n",
       "      <td>2.489963</td>\n",
       "      <td>1.794520</td>\n",
       "      <td>...</td>\n",
       "      <td>1.018678</td>\n",
       "      <td>0.103263</td>\n",
       "      <td>-0.518375</td>\n",
       "      <td>0.019140</td>\n",
       "      <td>0.027771</td>\n",
       "      <td>0.122186</td>\n",
       "      <td>0.593119</td>\n",
       "      <td>-0.391378</td>\n",
       "      <td>-0.161117</td>\n",
       "      <td>ALL</td>\n",
       "    </tr>\n",
       "    <tr>\n",
       "      <th>1</th>\n",
       "      <td>0.842926</td>\n",
       "      <td>-1.311323</td>\n",
       "      <td>-0.067011</td>\n",
       "      <td>-0.964423</td>\n",
       "      <td>-0.224387</td>\n",
       "      <td>-0.200579</td>\n",
       "      <td>-0.371600</td>\n",
       "      <td>-0.417306</td>\n",
       "      <td>-0.408754</td>\n",
       "      <td>-0.002931</td>\n",
       "      <td>...</td>\n",
       "      <td>-0.474402</td>\n",
       "      <td>-0.067901</td>\n",
       "      <td>0.555431</td>\n",
       "      <td>0.160143</td>\n",
       "      <td>0.003223</td>\n",
       "      <td>-0.043618</td>\n",
       "      <td>0.032103</td>\n",
       "      <td>-0.576990</td>\n",
       "      <td>0.415146</td>\n",
       "      <td>ALL</td>\n",
       "    </tr>\n",
       "    <tr>\n",
       "      <th>2</th>\n",
       "      <td>1.076941</td>\n",
       "      <td>-0.788133</td>\n",
       "      <td>1.859748</td>\n",
       "      <td>1.151430</td>\n",
       "      <td>0.498175</td>\n",
       "      <td>1.244393</td>\n",
       "      <td>1.390191</td>\n",
       "      <td>0.664072</td>\n",
       "      <td>0.542223</td>\n",
       "      <td>0.548277</td>\n",
       "      <td>...</td>\n",
       "      <td>-0.273350</td>\n",
       "      <td>1.493964</td>\n",
       "      <td>1.747818</td>\n",
       "      <td>-0.568816</td>\n",
       "      <td>0.797680</td>\n",
       "      <td>2.306901</td>\n",
       "      <td>0.705322</td>\n",
       "      <td>-0.331659</td>\n",
       "      <td>-0.261337</td>\n",
       "      <td>ALL</td>\n",
       "    </tr>\n",
       "    <tr>\n",
       "      <th>3</th>\n",
       "      <td>-1.596222</td>\n",
       "      <td>-0.874097</td>\n",
       "      <td>0.991127</td>\n",
       "      <td>0.574379</td>\n",
       "      <td>-0.065558</td>\n",
       "      <td>-0.044040</td>\n",
       "      <td>-0.402063</td>\n",
       "      <td>0.488835</td>\n",
       "      <td>0.247321</td>\n",
       "      <td>0.266520</td>\n",
       "      <td>...</td>\n",
       "      <td>-0.288936</td>\n",
       "      <td>0.691636</td>\n",
       "      <td>0.548844</td>\n",
       "      <td>-0.552853</td>\n",
       "      <td>-0.342677</td>\n",
       "      <td>-0.653193</td>\n",
       "      <td>-1.336776</td>\n",
       "      <td>-0.496289</td>\n",
       "      <td>-1.514082</td>\n",
       "      <td>ALL</td>\n",
       "    </tr>\n",
       "    <tr>\n",
       "      <th>4</th>\n",
       "      <td>-0.192137</td>\n",
       "      <td>-0.655253</td>\n",
       "      <td>-0.193356</td>\n",
       "      <td>-0.651854</td>\n",
       "      <td>0.142487</td>\n",
       "      <td>-0.176496</td>\n",
       "      <td>-0.286980</td>\n",
       "      <td>-0.274163</td>\n",
       "      <td>0.379259</td>\n",
       "      <td>-0.311094</td>\n",
       "      <td>...</td>\n",
       "      <td>-0.471285</td>\n",
       "      <td>-0.206971</td>\n",
       "      <td>-0.063819</td>\n",
       "      <td>0.325090</td>\n",
       "      <td>-1.183998</td>\n",
       "      <td>0.049037</td>\n",
       "      <td>0.099424</td>\n",
       "      <td>-0.609271</td>\n",
       "      <td>0.139542</td>\n",
       "      <td>ALL</td>\n",
       "    </tr>\n",
       "  </tbody>\n",
       "</table>\n",
       "<p>5 rows × 5148 columns</p>\n",
       "</div>"
      ],
      "text/plain": [
       "   AFFX-BioC-5_at  hum_alu_at  AFFX-DapX-M_at  AFFX-LysX-5_at  \\\n",
       "0       -0.912181   -0.936280        1.330679        0.045416   \n",
       "1        0.842926   -1.311323       -0.067011       -0.964423   \n",
       "2        1.076941   -0.788133        1.859748        1.151430   \n",
       "3       -1.596222   -0.874097        0.991127        0.574379   \n",
       "4       -0.192137   -0.655253       -0.193356       -0.651854   \n",
       "\n",
       "   AFFX-HUMISGF3A/M97935_MA_at  AFFX-HUMISGF3A/M97935_MB_at  \\\n",
       "0                     0.236442                     0.196788   \n",
       "1                    -0.224387                    -0.200579   \n",
       "2                     0.498175                     1.244393   \n",
       "3                    -0.065558                    -0.044040   \n",
       "4                     0.142487                    -0.176496   \n",
       "\n",
       "   AFFX-HUMISGF3A/M97935_3_at  AFFX-HUMRGE/M10098_5_at  \\\n",
       "0                    0.244435                 2.561725   \n",
       "1                   -0.371600                -0.417306   \n",
       "2                    1.390191                 0.664072   \n",
       "3                   -0.402063                 0.488835   \n",
       "4                   -0.286980                -0.274163   \n",
       "\n",
       "   AFFX-HUMRGE/M10098_M_at  AFFX-HUMRGE/M10098_3_at  ...  U29175_at  \\\n",
       "0                 2.489963                 1.794520  ...   1.018678   \n",
       "1                -0.408754                -0.002931  ...  -0.474402   \n",
       "2                 0.542223                 0.548277  ...  -0.273350   \n",
       "3                 0.247321                 0.266520  ...  -0.288936   \n",
       "4                 0.379259                -0.311094  ...  -0.471285   \n",
       "\n",
       "   U48730_at  U58516_at  X06956_at  X83863_at  Z17240_at  L49218_f_at  \\\n",
       "0   0.103263  -0.518375   0.019140   0.027771   0.122186     0.593119   \n",
       "1  -0.067901   0.555431   0.160143   0.003223  -0.043618     0.032103   \n",
       "2   1.493964   1.747818  -0.568816   0.797680   2.306901     0.705322   \n",
       "3   0.691636   0.548844  -0.552853  -0.342677  -0.653193    -1.336776   \n",
       "4  -0.206971  -0.063819   0.325090  -1.183998   0.049037     0.099424   \n",
       "\n",
       "   M71243_f_at  Z78285_f_at  target  \n",
       "0    -0.391378    -0.161117     ALL  \n",
       "1    -0.576990     0.415146     ALL  \n",
       "2    -0.331659    -0.261337     ALL  \n",
       "3    -0.496289    -1.514082     ALL  \n",
       "4    -0.609271     0.139542     ALL  \n",
       "\n",
       "[5 rows x 5148 columns]"
      ]
     },
     "execution_count": 3,
     "metadata": {},
     "output_type": "execute_result"
    }
   ],
   "source": [
    "# Preprocess Data\n",
    "try:\n",
    "    df, X, y = validate_format(df, rows=110, columns=5147, target='DIAGNOSIS', drop=['ID'], col_print=5)\n",
    "except TypeError:\n",
    "    pass\n",
    "\n",
    "df.head()"
   ]
  },
  {
   "cell_type": "markdown",
   "metadata": {},
   "source": [
    "#### Target Distribution"
   ]
  },
  {
   "cell_type": "code",
   "execution_count": 4,
   "metadata": {},
   "outputs": [
    {
     "data": {
      "image/png": "[encoded data removed]",
      "text/plain": [
       "<Figure size 1008x432 with 1 Axes>"
      ]
     },
     "metadata": {
      "needs_background": "light"
     },
     "output_type": "display_data"
    }
   ],
   "source": [
    "# Plot Target Again\n",
    "\n",
    "make_bar_chart(y)"
   ]
  },
  {
   "cell_type": "markdown",
   "metadata": {},
   "source": [
    "There is a considerable difference between the binary classes. \n",
    "\n",
    "To solve this issue, a mixture of under sampling and over sampling:\n",
    "1. `SMOTE` Function \n",
    "2. `Tomek Links` Function\n",
    "\n",
    "The `SMOTE` function will generate new data points in the minority category, based on points that already existed in the dataset. Subsequently through the `Tomek Links` technique, the data is cleaned by removing near neighbors from different classes. This way, allowing models to discriminate classes better, since ambigous datapoints are removed."
   ]
  },
  {
   "cell_type": "code",
   "execution_count": 5,
   "metadata": {},
   "outputs": [
    {
     "name": "stdout",
     "output_type": "stream",
     "text": [
      "Dataset has now 140(+30) datapoints.\n"
     ]
    },
    {
     "data": {
      "image/png": "[encoded data removed]",
      "text/plain": [
       "<Figure size 1008x432 with 1 Axes>"
      ]
     },
     "metadata": {
      "needs_background": "light"
     },
     "output_type": "display_data"
    }
   ],
   "source": [
    "#Aplly under and over sampling\n",
    "smt = SMOTETomek()\n",
    "X, y = smt.fit_sample(X, y)\n",
    "\n",
    "# Plot Target Again\n",
    "\n",
    "make_bar_chart(y)\n",
    "print('Dataset has now {}(+{}) datapoints.'.format(len(X), len(X) - len(df)))"
   ]
  },
  {
   "cell_type": "markdown",
   "metadata": {},
   "source": [
    "The target is now balanced."
   ]
  },
  {
   "cell_type": "markdown",
   "metadata": {},
   "source": [
    "## 2. Dimensionality Reduction"
   ]
  },
  {
   "cell_type": "markdown",
   "metadata": {},
   "source": [
    "#### Remove Features with low variance"
   ]
  },
  {
   "cell_type": "code",
   "execution_count": 6,
   "metadata": {},
   "outputs": [
    {
     "data": {
      "image/png": "[encoded data removed]",
      "text/plain": [
       "<Figure size 648x504 with 1 Axes>"
      ]
     },
     "metadata": {
      "needs_background": "light"
     },
     "output_type": "display_data"
    }
   ],
   "source": [
    "_, _ = detect_threshold(X, 100)"
   ]
  },
  {
   "cell_type": "markdown",
   "metadata": {},
   "source": [
    "After this analysis, its clear that to retain only, the most useful features, we must choose a threshold between 0,9 and 1."
   ]
  },
  {
   "cell_type": "code",
   "execution_count": 71,
   "metadata": {},
   "outputs": [
    {
     "name": "stdout",
     "output_type": "stream",
     "text": [
      "971 Features Kept of 5147\n"
     ]
    }
   ],
   "source": [
    "X_variance = variance_threshold(X, 0.99)"
   ]
  },
  {
   "cell_type": "markdown",
   "metadata": {},
   "source": [
    "#### Principal Component Analysis"
   ]
  },
  {
   "cell_type": "markdown",
   "metadata": {},
   "source": [
    "To do a PCA, one must decide a metric to determine the components to retain. \n",
    "\n",
    "In a normal situation i would use a Maximum Likelihood Approach, based on the following papers:\n",
    "\n",
    "* Bishop, Christopher M. \"Bayesian pca.\" Advances in neural information processing systems. 1999.\n",
    "* Minka, Thomas P. \"Automatic choice of dimensionality for PCA.\" Advances in neural information processing systems. 2001.\n",
    "\n",
    "But since this dataset has more features that datapoints, the assumption on which this methodology is built do not hold.\n",
    "\n",
    "In this case I'll use the explained variance to access how many components should be kept."
   ]
  },
  {
   "cell_type": "code",
   "execution_count": 69,
   "metadata": {},
   "outputs": [
    {
     "name": "stdout",
     "output_type": "stream",
     "text": [
      "Evaluation loss:  0.1828  (MSE)\n",
      "Components Kept explain 80.0% of the dataset's variance\n",
      "32 Components Kept from 5147 features\n"
     ]
    },
    {
     "data": {
      "image/png": "[encoded data removed]",
      "text/plain": [
       "<Figure size 720x504 with 1 Axes>"
      ]
     },
     "metadata": {
      "needs_background": "light"
     },
     "output_type": "display_data"
    }
   ],
   "source": [
    "X_pca = ca_threshold(X, analisys='pca')"
   ]
  },
  {
   "cell_type": "markdown",
   "metadata": {},
   "source": [
    "In this case I consider 80% of explained variance to be a good enough, given the ratio between explained_varience and number_of_components. Keeping 34 components of a total of 5147 features.\n",
    "\n",
    "In this case I consider 80% of explained variance to be a good enough, given the ratio between explained_varience and number_of_components. Keeping 34 components of a total of 5147 features.\n",
    "\n",
    "In some cases, looking at the eigenvalues might also be useful, to determine this threshold. Normally the rule is to use all components with eigenvalues higher than one. This technique is simple, but prone to error. In more standard datasets it might work ok, but in this case, it would probably point to 5 or 6 components, that account for 20 or 30 % of variance. This implicates the loss of 70 % of the dataset’s variance! \n",
    "\n",
    "So, when MLE is not possible, I prefer to always extract the explained variance, and make my decision based on it, since it gives me a better perception of what is actually happening to the dataset. Looking at the eigenvalues might be usefull but it requires, a closer look at the model."
   ]
  },
  {
   "cell_type": "markdown",
   "metadata": {},
   "source": [
    "#### Kernel PCA"
   ]
  },
  {
   "cell_type": "markdown",
   "metadata": {},
   "source": [
    "The main problem when using a simple PCA, is that the components are using linear correlations, so eventual non-linear relationships that might exist are not consider. To solve this problem, a simple solution is to use the Kernel trick. We project our data into an implicit feature space of even higher dimensionality, where non-linear relationships, are linearly separable. This is because in a dataset with d dimensions and n points, when n >= d, points are almost always linearly separable.\n",
    "\n",
    "In this problem in particular this technique is not very useful, since this condition already applies without using an implicit feature space."
   ]
  },
  {
   "cell_type": "markdown",
   "metadata": {},
   "source": [
    "#### Linear discriminant analysis"
   ]
  },
  {
   "cell_type": "markdown",
   "metadata": {},
   "source": [
    "Another type of component analysis when the target is known is LDA. This technique specializes in finding linear combinations (components) that separate well the target classes, this not only facilitates learning by reducing dimensionality but also does it in a way that creates feature that are able to be linearly separated.\n",
    "\n",
    "LDA can be used in binary targets for other analysis, but has it generates a maximum N components *, where N equals C (classes) minus 1, is not very useful since it will only generate one component, as it is visible bellow. To better explore this technique, as a dimensionality reduction technique, a multi class target is required.\n",
    "\n",
    "*n_components = min(n_classes - 1, n_features)"
   ]
  },
  {
   "cell_type": "code",
   "execution_count": 9,
   "metadata": {},
   "outputs": [
    {
     "name": "stdout",
     "output_type": "stream",
     "text": [
      "Components Kept explain 80.0% of the dataset's variance\n",
      "1 Components Kept from 5147 features\n"
     ]
    }
   ],
   "source": [
    "X_lda = ca_threshold(X, y, analisys='lda')"
   ]
  },
  {
   "cell_type": "markdown",
   "metadata": {},
   "source": [
    "#### Autoencoder"
   ]
  },
  {
   "cell_type": "markdown",
   "metadata": {},
   "source": [
    "Autoencoders are an alternative way of performing dimensionality reduction, by generating representations of the dataset. \n",
    "\n",
    "In a simple way autoencoders compress data (encode), generating N data representations (features), and them decompress data (decode) to reconstruct the dataset. This can be useful to many tasks like removing noise from data. After training these representations can be used as a reduced set of features, since they can generate an almost perfect version of the dataset.\n",
    "\n",
    "They have a clear advantage to component analysis since any N representations can be generated without affecting the quality of the reconstruct dataset, a smaller N only implicates more training time. Also, autoencoders thrive with big datasets, while pca fails when applied to big data.\n",
    "\n",
    "To learn more about autoencoders, please refer to this blog provided by [keras](https://blog.keras.io/building-autoencoders-in-keras.html).\n",
    "\n",
    "In this case since a big feature reduction is required, and the dataset is low on datapoints, the number of epochs will need to be very high to ensure convergence, this will impact training time. So, I will pre-train the network, by running my function in training mode, and saving the model and weights. In other runs the function can be called with the training mode off, and it will use the pre-trained models."
   ]
  },
  {
   "cell_type": "code",
   "execution_count": 10,
   "metadata": {},
   "outputs": [
    {
     "name": "stdout",
     "output_type": "stream",
     "text": [
      "Evaluation loss:  0.7329  (MSE)\n",
      "10 Representations Generated from 5147 Features\n"
     ]
    }
   ],
   "source": [
    "# To train the NN\n",
    "#X_encoded = generate_representation(X, train=True, encoding_dim=10, epochs=10000)\n",
    "\n",
    "# Load Model from saved files\n",
    "X_encoded = generate_representation(X, train=False)"
   ]
  },
  {
   "cell_type": "markdown",
   "metadata": {},
   "source": [
    "Given that the loss is very low, it is plausible to conclude that our network was able to generate good representations of the dataset.\n",
    "\n",
    "By looking at the result of the pca, one could fall in the error of thinking that those results are better, and that technique is not worth the trouble. It's important to remark that although, the results for the pca where very good, that difference in the loss for both techniques does not hold significance, and that using autoencoders we can (almost) get any number of representations we want without damaging our loss in a significant manner. In this case, by using an autoencoder we can reconstruct our dataset using 3 times less features.\n",
    "\n",
    "The Autoencoder also provides better dimensionality reduction for large datasets. The pca with a big dataset would simply not run, but the autoencoder would perform even better if more datapoints where provided.\n",
    "\n",
    "The autoencoder could even improve performance if I add spent more time tuning it, note that I am using the simplest network possible, but other more complex networks could get better results. Performance could also be improved by training the model with more epochs, implicating more computing time."
   ]
  },
  {
   "cell_type": "markdown",
   "metadata": {},
   "source": [
    "## 3. Defining Metrics"
   ]
  },
  {
   "cell_type": "markdown",
   "metadata": {},
   "source": [
    "**Unsupervised** :\n",
    "* Metrics [Silhouette score](http://scikit-learn.org/stable/modules/generated/sklearn.metrics.silhouette_score.html), this score is the most common when no previous knowledge of the ground truth is available.\n",
    "\n",
    "**Supervised** :\n",
    "* Confusion Matrix, this typical representation for supervised learning ff some insights into how the clusters are behaving.\n",
    "* Metrics [Fowlkes Mallows](https://scikit-learn.org/stable/modules/clustering.html#fowlkes-mallows-scores), this is arguably the best metric for measuring cluster quality, when the ground truth is available, without any drawback expect the fact that it needs that knowledge to work. (Normally not available)\n",
    "\n",
    "**Visualizations** :\n",
    "\n",
    "* [Silhouette Visualizer](https://www.scikit-yb.org/en/latest/api/cluster/silhouette.html#silhouette-visualizer), this method offers a visualization for the Silhouette score for every cluster in a given model.\n",
    "* [Elbow Method](https://www.scikit-yb.org/en/latest/api/cluster/elbow.html), this method offers a way to represent the impact of using a given K number of clusters, by iteratively fitting a model with different K values and them plotting the Silhouette Score, or another scoring metric. (Normaly the metric used will be distortion, since it provides better visual inference)"
   ]
  },
  {
   "cell_type": "markdown",
   "metadata": {},
   "source": [
    "## 4. Partitional Clustering : X-Means"
   ]
  },
  {
   "cell_type": "markdown",
   "metadata": {},
   "source": [
    "\"X-means clustering method starts with the assumption of having a minimum number of clusters, and then dynamically increases them. X-means uses specified splitting criterion to control the process of splitting clusters.\"\n",
    "\n",
    "In this case the spliting criterion will be the BIC (Bayesian Information Criterion). \n",
    "\n",
    "Instead of generating random inicial cluester centers, they will be generated based on an approximation ratio."
   ]
  },
  {
   "cell_type": "markdown",
   "metadata": {},
   "source": [
    "#### 4.1 Dataset: X"
   ]
  },
  {
   "cell_type": "markdown",
   "metadata": {},
   "source": [
    "##### Finding Optimal K number of clusters"
   ]
  },
  {
   "cell_type": "code",
   "execution_count": 18,
   "metadata": {},
   "outputs": [
    {
     "data": {
      "image/png": "[encoded data removed]",
      "text/plain": [
       "<Figure size 432x288 with 1 Axes>"
      ]
     },
     "metadata": {
      "needs_background": "light"
     },
     "output_type": "display_data"
    }
   ],
   "source": [
    "# Plot Elbow Method\n",
    "get_k(X, _range=(1,10))"
   ]
  },
  {
   "cell_type": "markdown",
   "metadata": {},
   "source": [
    "Give the high dimensionality, the silhoutte score cannot determin with precison k. \n",
    "\n",
    "The ideal number of clusters determined is 3. So we expect the X-Means to generate between 2-4 clusters."
   ]
  },
  {
   "cell_type": "markdown",
   "metadata": {},
   "source": [
    "##### Clustering"
   ]
  },
  {
   "cell_type": "code",
   "execution_count": 37,
   "metadata": {},
   "outputs": [
    {
     "name": "stdout",
     "output_type": "stream",
     "text": [
      "2 Clusters Generated\n",
      "Total WCE: 590764.99\n"
     ]
    },
    {
     "data": {
      "image/png": "[encoded data removed]",
      "text/plain": [
       "<Figure size 432x288 with 1 Axes>"
      ]
     },
     "metadata": {
      "needs_background": "light"
     },
     "output_type": "display_data"
    },
    {
     "name": "stdout",
     "output_type": "stream",
     "text": [
      "Unsupervised Metrics: \n",
      "\n",
      "Silhouette Score: 0.105 (between [-1,1])\n",
      "\n",
      "\n",
      "Supervised Metrics:\n",
      "\n",
      "Fowlkes Mallows Score: 0.675 (between [0,1])\n",
      "Confusion Matrix: \n",
      "    ALL  AML\n",
      "0   63   22\n",
      "1    7   48\n"
     ]
    }
   ],
   "source": [
    "clustering(X, y, method='Xmeans', centers=2)"
   ]
  },
  {
   "cell_type": "markdown",
   "metadata": {},
   "source": [
    "The algorithm only used the inicial centers, not generating more clusters. The result is very bad, which is normal given that we are using an unparsed dataset.\n",
    "\n",
    "At this point there is not much to say, I don't expect to obtain acceptable results using an original version of the dataset. Exception being the CLIQUE algorithm, that might be able to obtain satisfying results."
   ]
  },
  {
   "cell_type": "markdown",
   "metadata": {},
   "source": [
    "#### 4.2 Dataset: X_encoded"
   ]
  },
  {
   "cell_type": "markdown",
   "metadata": {},
   "source": [
    "##### Finding Optimal K number of clusters"
   ]
  },
  {
   "cell_type": "code",
   "execution_count": 47,
   "metadata": {},
   "outputs": [
    {
     "data": {
      "image/png": "[encoded data removed]",
      "text/plain": [
       "<Figure size 432x288 with 1 Axes>"
      ]
     },
     "metadata": {
      "needs_background": "light"
     },
     "output_type": "display_data"
    }
   ],
   "source": [
    "# Plot Elbow Method\n",
    "get_k(X_encoded, _range=(2,10), metric='silhouette')"
   ]
  },
  {
   "cell_type": "markdown",
   "metadata": {},
   "source": [
    "(Here I decided to use the silhouette metric since we have a smaller number of features, this metric might be more accurate)\n",
    "\n",
    "Once again this method is not very clear, but the aceptable of clusters determined is near 5.\n",
    "\n",
    "Since its not clear and the X means algorithm uses a different metric, to determine the number of clusters is possible that the cluster number variates a bit."
   ]
  },
  {
   "cell_type": "markdown",
   "metadata": {},
   "source": [
    "##### Clustering"
   ]
  },
  {
   "cell_type": "code",
   "execution_count": 60,
   "metadata": {},
   "outputs": [
    {
     "name": "stdout",
     "output_type": "stream",
     "text": [
      "5 Clusters Generated\n",
      "Total WCE: 460644.2\n"
     ]
    },
    {
     "data": {
      "image/png": "[encoded data removed]",
      "text/plain": [
       "<Figure size 432x288 with 1 Axes>"
      ]
     },
     "metadata": {
      "needs_background": "light"
     },
     "output_type": "display_data"
    },
    {
     "name": "stdout",
     "output_type": "stream",
     "text": [
      "Unsupervised Metrics: \n",
      "\n",
      "Silhouette Score: 0.30000001192092896 (between [-1,1])\n",
      "\n",
      "\n",
      "Supervised Metrics:\n",
      "\n",
      "Fowlkes Mallows Score: 0.539 (between [0,1])\n",
      "Confusion Matrix: \n",
      "    ALL  AML\n",
      "0   10    3\n",
      "1   18    2\n",
      "2   10    1\n",
      "3    0   45\n",
      "4   32   19\n"
     ]
    }
   ],
   "source": [
    "clustering(X_encoded, y, method='Xmeans', centers=3)"
   ]
  },
  {
   "cell_type": "markdown",
   "metadata": {},
   "source": [
    "The performance increases considerably when using representations, what comes to prove the reduction capabilities of this networks.\n",
    "\n",
    "Obviously, the increase in performance, is mostly seen in the unsupervised metrics since we are generating 5 clusters and have only 2 classes in the target.\n",
    "\n",
    "By analyzing the silhouette, and given the number of clusters, I can access that this dataset is very sparse. The dataset has only 2 classes, but data tends to fall into 3 to 6 clusters, with 1 or 2 clusters holding must of the datapoints. Which leads me to conclude that we have two, real, datacenters, that represent the classes in our target, and them various groups of outliers, that can extend up to 8 clusters. The extension can be accessed by looking at the elbow graph. This leads me to the affirmation of the sparseness of the dataset."
   ]
  },
  {
   "cell_type": "markdown",
   "metadata": {},
   "source": [
    "#### 4.3 Dataset: X_variance"
   ]
  },
  {
   "cell_type": "markdown",
   "metadata": {},
   "source": [
    "##### Finding Optimal K number of clusters"
   ]
  },
  {
   "cell_type": "code",
   "execution_count": 73,
   "metadata": {},
   "outputs": [
    {
     "data": {
      "image/png": "[encoded data removed]",
      "text/plain": [
       "<Figure size 432x288 with 1 Axes>"
      ]
     },
     "metadata": {
      "needs_background": "light"
     },
     "output_type": "display_data"
    }
   ],
   "source": [
    "# Plot Elbow Method\n",
    "get_k(X_variance, _range=(1,10), metric='distortion')"
   ]
  },
  {
   "cell_type": "markdown",
   "metadata": {},
   "source": [
    "The metric is not clear (this is why using X-means is a major advantage, because it solves ambigous results)."
   ]
  },
  {
   "cell_type": "markdown",
   "metadata": {},
   "source": [
    "##### Clustering"
   ]
  },
  {
   "cell_type": "code",
   "execution_count": 75,
   "metadata": {},
   "outputs": [
    {
     "name": "stdout",
     "output_type": "stream",
     "text": [
      "4 Clusters Generated\n",
      "Total WCE: 501352.04\n"
     ]
    },
    {
     "data": {
      "image/png": "[encoded data removed]",
      "text/plain": [
       "<Figure size 432x288 with 1 Axes>"
      ]
     },
     "metadata": {
      "needs_background": "light"
     },
     "output_type": "display_data"
    },
    {
     "name": "stdout",
     "output_type": "stream",
     "text": [
      "Unsupervised Metrics: \n",
      "\n",
      "Silhouette Score: 0.34299999475479126 (between [-1,1])\n",
      "\n",
      "\n",
      "Supervised Metrics:\n",
      "\n",
      "Fowlkes Mallows Score: 0.562 (between [0,1])\n",
      "Confusion Matrix: \n",
      "    ALL  AML\n",
      "0   20    1\n",
      "1   14    3\n",
      "2   36   21\n",
      "3    0   45\n"
     ]
    }
   ],
   "source": [
    "clustering(X_encoded, y, method='Xmeans', centers=2)"
   ]
  },
  {
   "cell_type": "markdown",
   "metadata": {},
   "source": [
    "The cluster number confirms what was previously obtained, and the quality of the clusters is acceptable, and good when compared with initially obtained results.\n",
    "\n",
    "This reduction technique was also able to provide a good representation of the dataset.\n",
    "\n",
    "Once again it is clear that cluster 2, and 3 represent our classes ALL, and AML respectively, with clusters 0 and 1 being mainly outliers of the ALL class.\n",
    "\n",
    "No improvements in the supervised learning problem."
   ]
  },
  {
   "cell_type": "markdown",
   "metadata": {},
   "source": [
    "#### 4.4 Dataset: X_pca"
   ]
  },
  {
   "cell_type": "markdown",
   "metadata": {},
   "source": [
    "##### Finding Optimal K number of clusters"
   ]
  },
  {
   "cell_type": "code",
   "execution_count": 77,
   "metadata": {},
   "outputs": [
    {
     "data": {
      "image/png": "[encoded data removed]",
      "text/plain": [
       "<Figure size 432x288 with 1 Axes>"
      ]
     },
     "metadata": {
      "needs_background": "light"
     },
     "output_type": "display_data"
    }
   ],
   "source": [
    "# Plot Elbow Method\n",
    "get_k(X_pca, _range=(1,10), metric='distortion')"
   ]
  },
  {
   "cell_type": "markdown",
   "metadata": {},
   "source": [
    "##### Clustering"
   ]
  },
  {
   "cell_type": "code",
   "execution_count": 84,
   "metadata": {},
   "outputs": [
    {
     "name": "stdout",
     "output_type": "stream",
     "text": [
      "2 Clusters Generated\n",
      "Total WCE: 512429.36\n"
     ]
    },
    {
     "data": {
      "image/png": "[encoded data removed]",
      "text/plain": [
       "<Figure size 432x288 with 1 Axes>"
      ]
     },
     "metadata": {
      "needs_background": "light"
     },
     "output_type": "display_data"
    },
    {
     "name": "stdout",
     "output_type": "stream",
     "text": [
      "Unsupervised Metrics: \n",
      "\n",
      "Silhouette Score: 0.134 (between [-1,1])\n",
      "\n",
      "\n",
      "Supervised Metrics:\n",
      "\n",
      "Fowlkes Mallows Score: 0.663 (between [0,1])\n",
      "Confusion Matrix: \n",
      "    ALL  AML\n",
      "0   61   21\n",
      "1    9   49\n"
     ]
    }
   ],
   "source": [
    "clustering(X_pca, y, method='Xmeans', centers=2)"
   ]
  },
  {
   "cell_type": "markdown",
   "metadata": {},
   "source": [
    "Although the cluster quality as decreased, clusters represent aceptably the original classes.\n",
    "\n",
    "C0 - ALL\n",
    "C1 - AML\n",
    "\n",
    "I access that the pca technique, was more capable of removing noise associated with classes than other methodologies. This is probably do to the fact that it creates linear combinations of data, but then only maintains the most important ones, while autoencoders maintain all representations generated. Nevertheless, in bigger datasets, autoencoder clearly outperforms pca techniques."
   ]
  },
  {
   "cell_type": "markdown",
   "metadata": {},
   "source": [
    "#### 4.5 Conclusions\n",
    "\n",
    "In general, partitional clustering is not able to generate clusters that represent the dataset, quality is poor for both supervised and unsupervised learning problems.\n",
    "\n",
    "Dimensionality reduction it is clearly a very important process in the pipeline, improving greatly the performance of the model. Pca is able to remove more of the datasets noise, while other techniques retain better the original dataset, allowing clusters with more quality to be generated, although they don't represent the target well, due to data sparseness.\n",
    "\n",
    "Normally two main clusters are found that represent the main classes, and others represent outliers. Partitional clustering, seems to be mostly generating clusters that resemble with the supervised problem, which might be specific to this algorithm, or have some insight into the patterns of the dataset. By testing other algorithms, a better inference can be made."
   ]
  },
  {
   "cell_type": "markdown",
   "metadata": {},
   "source": [
    "## 5. Hierarchical Clustering : BIRCH"
   ]
  },
  {
   "cell_type": "code",
   "execution_count": null,
   "metadata": {},
   "outputs": [],
   "source": []
  },
  {
   "cell_type": "markdown",
   "metadata": {},
   "source": [
    "## 5. Density-based Clustering : DBSCAN\n",
    "\n",
    "Compare the results with those of K-means and HCA."
   ]
  },
  {
   "cell_type": "code",
   "execution_count": null,
   "metadata": {},
   "outputs": [],
   "source": [
    "# Write code in cells like this\n",
    "# ...."
   ]
  },
  {
   "cell_type": "markdown",
   "metadata": {},
   "source": [
    "Write text in cells like this ..."
   ]
  },
  {
   "cell_type": "markdown",
   "metadata": {},
   "source": [
    "## 6. Subspace Clustering : CLIQUE\n",
    "\n",
    "Best Results"
   ]
  },
  {
   "cell_type": "code",
   "execution_count": null,
   "metadata": {},
   "outputs": [],
   "source": [
    "# Write code in cells like this\n",
    "# ...."
   ]
  },
  {
   "cell_type": "markdown",
   "metadata": {},
   "source": [
    "## 6. Genetic Clustering : GA"
   ]
  },
  {
   "cell_type": "markdown",
   "metadata": {},
   "source": [
    "Write text in cells like this ..."
   ]
  },
  {
   "cell_type": "markdown",
   "metadata": {},
   "source": [
    "## 7. Biclustering"
   ]
  },
  {
   "cell_type": "markdown",
   "metadata": {},
   "source": [
    "https://github.com/padilha/biclustlib\n",
    "\n",
    "[Large Average Submatrices](https://www.jstor.org/stable/30242874?seq=1)"
   ]
  },
  {
   "cell_type": "code",
   "execution_count": null,
   "metadata": {},
   "outputs": [],
   "source": []
  },
  {
   "cell_type": "markdown",
   "metadata": {},
   "source": [
    "## 8. Conclusions"
   ]
  },
  {
   "cell_type": "markdown",
   "metadata": {},
   "source": [
    "* Decided not to spent to much time hyperparameter tunning, since anyone can do this by using a gridsearch function, and I focused more on exploring different clustering algorithms\n",
    "* The focusses of this work was to explore the maiximum number of methodologys, and determine which perfromed best under extreme conditions of high dimensionality."
   ]
  },
  {
   "cell_type": "code",
   "execution_count": null,
   "metadata": {},
   "outputs": [],
   "source": []
  }
 ],
 "metadata": {
  "kernelspec": {
   "display_name": "Python 3",
   "language": "python",
   "name": "python3"
  },
  "language_info": {
   "codemirror_mode": {
    "name": "ipython",
    "version": 3
   },
   "file_extension": ".py",
   "mimetype": "text/x-python",
   "name": "python",
   "nbconvert_exporter": "python",
   "pygments_lexer": "ipython3",
   "version": "3.7.4"
  }
 },
 "nbformat": 4,
 "nbformat_minor": 4
}
